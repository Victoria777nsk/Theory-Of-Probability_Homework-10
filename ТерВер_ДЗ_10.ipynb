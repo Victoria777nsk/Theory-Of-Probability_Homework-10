{
 "cells": [
  {
   "cell_type": "markdown",
   "id": "059eb492",
   "metadata": {},
   "source": [
    "Провести дисперсионный анализ для определения того, есть ли различия среднего роста среди взрослых футболистов, хоккеистов и штангистов. Даны значения роста в трех группах случайно выбранных спортсменов:\n",
    "\n",
    "Футболисты: 173, 175, 180, 178, 177, 185, 183, 182.\n",
    "Хоккеисты: 177, 179, 180, 188, 177, 172, 171, 184, 180.\n",
    "Штангисты: 172, 173, 169, 177, 166, 180, 178, 177, 172, 166, 170."
   ]
  },
  {
   "cell_type": "code",
   "execution_count": 1,
   "id": "6e0b6179",
   "metadata": {},
   "outputs": [],
   "source": [
    "import pandas as pd\n",
    "import numpy as np"
   ]
  },
  {
   "cell_type": "code",
   "execution_count": 3,
   "id": "7a98bc10",
   "metadata": {},
   "outputs": [],
   "source": [
    "football_players = np.array([173, 175, 180, 178, 177, 185, 183, 182])\n",
    "hockey_players = np.array([177, 179, 180, 188, 177, 172, 171, 184, 180])\n",
    "weight_lifters = np.array([172, 173, 169, 177, 166, 180, 178, 177, 172, 166, 170])"
   ]
  },
  {
   "cell_type": "code",
   "execution_count": 4,
   "id": "603db9ca",
   "metadata": {},
   "outputs": [
    {
     "data": {
      "text/plain": [
       "179.125"
      ]
     },
     "execution_count": 4,
     "metadata": {},
     "output_type": "execute_result"
    }
   ],
   "source": [
    "f_mean = football_players.mean()\n",
    "f_mean"
   ]
  },
  {
   "cell_type": "code",
   "execution_count": 5,
   "id": "61306137",
   "metadata": {},
   "outputs": [
    {
     "data": {
      "text/plain": [
       "178.66666666666666"
      ]
     },
     "execution_count": 5,
     "metadata": {},
     "output_type": "execute_result"
    }
   ],
   "source": [
    "h_mean = hockey_players.mean()\n",
    "h_mean"
   ]
  },
  {
   "cell_type": "code",
   "execution_count": 6,
   "id": "ecff26de",
   "metadata": {},
   "outputs": [
    {
     "data": {
      "text/plain": [
       "172.72727272727272"
      ]
     },
     "execution_count": 6,
     "metadata": {},
     "output_type": "execute_result"
    }
   ],
   "source": [
    "w_mean = weight_lifters.mean()\n",
    "w_mean"
   ]
  },
  {
   "cell_type": "code",
   "execution_count": 8,
   "id": "484060c6",
   "metadata": {},
   "outputs": [
    {
     "data": {
      "text/plain": [
       "176.46428571428572"
      ]
     },
     "execution_count": 8,
     "metadata": {},
     "output_type": "execute_result"
    }
   ],
   "source": [
    "height = np.hstack((football_players, hockey_players, weight_lifters))\n",
    "height_mean = height.mean()\n",
    "height_mean"
   ]
  },
  {
   "cell_type": "code",
   "execution_count": 9,
   "id": "495f400d",
   "metadata": {},
   "outputs": [
    {
     "data": {
      "text/plain": [
       "830.9642857142854"
      ]
     },
     "execution_count": 9,
     "metadata": {},
     "output_type": "execute_result"
    }
   ],
   "source": [
    "s = np.sum((height - height_mean) ** 2)\n",
    "s"
   ]
  },
  {
   "cell_type": "code",
   "execution_count": 10,
   "id": "545ee182",
   "metadata": {},
   "outputs": [
    {
     "data": {
      "text/plain": [
       "253.9074675324678"
      ]
     },
     "execution_count": 10,
     "metadata": {},
     "output_type": "execute_result"
    }
   ],
   "source": [
    "s_f = (f_mean - height_mean) ** 2 * len(football_players) + (h_mean - height_mean) ** 2 * len(hockey_players) + (w_mean - height_mean) ** 2 * len(weight_lifters)\n",
    "s_f"
   ]
  },
  {
   "cell_type": "code",
   "execution_count": 11,
   "id": "c3b7ae62",
   "metadata": {},
   "outputs": [
    {
     "data": {
      "text/plain": [
       "577.0568181818182"
      ]
     },
     "execution_count": 11,
     "metadata": {},
     "output_type": "execute_result"
    }
   ],
   "source": [
    "s_ost = np.sum((football_players - f_mean) ** 2) + np.sum((hockey_players - h_mean) ** 2) + np.sum((weight_lifters - w_mean) ** 2)\n",
    "s_ost"
   ]
  },
  {
   "cell_type": "code",
   "execution_count": 12,
   "id": "1a95bfd4",
   "metadata": {},
   "outputs": [
    {
     "data": {
      "text/plain": [
       "830.964285714286"
      ]
     },
     "execution_count": 12,
     "metadata": {},
     "output_type": "execute_result"
    }
   ],
   "source": [
    "s_ost + s_f"
   ]
  },
  {
   "cell_type": "code",
   "execution_count": 13,
   "id": "8bd759ba",
   "metadata": {},
   "outputs": [
    {
     "data": {
      "text/plain": [
       "30.776455026455015"
      ]
     },
     "execution_count": 13,
     "metadata": {},
     "output_type": "execute_result"
    }
   ],
   "source": [
    "d = s / (len(height) - 1)\n",
    "d"
   ]
  },
  {
   "cell_type": "code",
   "execution_count": 14,
   "id": "332f3313",
   "metadata": {},
   "outputs": [
    {
     "data": {
      "text/plain": [
       "126.9537337662339"
      ]
     },
     "execution_count": 14,
     "metadata": {},
     "output_type": "execute_result"
    }
   ],
   "source": [
    "d_f = s_f / (3 - 1)\n",
    "d_f"
   ]
  },
  {
   "cell_type": "code",
   "execution_count": 15,
   "id": "e46a3836",
   "metadata": {},
   "outputs": [
    {
     "data": {
      "text/plain": [
       "23.08227272727273"
      ]
     },
     "execution_count": 15,
     "metadata": {},
     "output_type": "execute_result"
    }
   ],
   "source": [
    "d_ost = s_ost / (len(height) - 3)\n",
    "d_ost"
   ]
  },
  {
   "cell_type": "code",
   "execution_count": 16,
   "id": "472ed683",
   "metadata": {},
   "outputs": [
    {
     "data": {
      "text/plain": [
       "5.500053450812598"
      ]
     },
     "execution_count": 16,
     "metadata": {},
     "output_type": "execute_result"
    }
   ],
   "source": [
    "f_n = d_f / d_ost\n",
    "f_n"
   ]
  },
  {
   "cell_type": "code",
   "execution_count": 17,
   "id": "0963f7a7",
   "metadata": {},
   "outputs": [
    {
     "data": {
      "text/plain": [
       "28"
      ]
     },
     "execution_count": 17,
     "metadata": {},
     "output_type": "execute_result"
    }
   ],
   "source": [
    "len(height)"
   ]
  },
  {
   "cell_type": "code",
   "execution_count": 18,
   "id": "a37dc8c5",
   "metadata": {},
   "outputs": [
    {
     "data": {
      "text/plain": [
       "(2, 25)"
      ]
     },
     "execution_count": 18,
     "metadata": {},
     "output_type": "execute_result"
    }
   ],
   "source": [
    "alpha = 0.05\n",
    "d_f1 = 3 - 1\n",
    "d_f2 = len(height) - 3\n",
    "d_f1, d_f2"
   ]
  },
  {
   "cell_type": "code",
   "execution_count": 19,
   "id": "16d8b74a",
   "metadata": {},
   "outputs": [
    {
     "data": {
      "text/plain": [
       "False"
      ]
     },
     "execution_count": 19,
     "metadata": {},
     "output_type": "execute_result"
    }
   ],
   "source": [
    "f_f = 3.4928\n",
    "f_f > f_n"
   ]
  },
  {
   "cell_type": "markdown",
   "id": "2f084d84",
   "metadata": {},
   "source": [
    "=> Существуют статистически значимые различия в значениях роста футболистов, хоккеистов и штангистов."
   ]
  }
 ],
 "metadata": {
  "kernelspec": {
   "display_name": "Python 3 (ipykernel)",
   "language": "python",
   "name": "python3"
  },
  "language_info": {
   "codemirror_mode": {
    "name": "ipython",
    "version": 3
   },
   "file_extension": ".py",
   "mimetype": "text/x-python",
   "name": "python",
   "nbconvert_exporter": "python",
   "pygments_lexer": "ipython3",
   "version": "3.9.13"
  }
 },
 "nbformat": 4,
 "nbformat_minor": 5
}
